{
 "cells": [
  {
   "cell_type": "code",
   "execution_count": 1,
   "id": "77eb14bb-abda-463b-8401-e2e8a3cbfba2",
   "metadata": {},
   "outputs": [
    {
     "name": "stdout",
     "output_type": "stream",
     "text": [
      "This is a test to see if my github token is working\n"
     ]
    }
   ],
   "source": [
    "print(\"This is a test to see if my github token is working\")"
   ]
  },
  {
   "cell_type": "code",
   "execution_count": null,
   "id": "cf576924-4530-4902-8dfc-aad837cfd94e",
   "metadata": {},
   "outputs": [],
   "source": []
  },
  {
   "cell_type": "code",
   "execution_count": null,
   "id": "f6d75322-32e9-459e-97c7-abae2f781b32",
   "metadata": {},
   "outputs": [],
   "source": []
  }
 ],
 "metadata": {
  "kernelspec": {
   "display_name": "Python 3 (ipykernel)",
   "language": "python",
   "name": "python3"
  },
  "language_info": {
   "codemirror_mode": {
    "name": "ipython",
    "version": 3
   },
   "file_extension": ".py",
   "mimetype": "text/x-python",
   "name": "python",
   "nbconvert_exporter": "python",
   "pygments_lexer": "ipython3",
   "version": "3.12.1"
  }
 },
 "nbformat": 4,
 "nbformat_minor": 5
}
